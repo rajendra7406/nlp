{
 "cells": [
  {
   "cell_type": "markdown",
   "metadata": {},
   "source": [
    "# RNN\n",
    "* Using 'neitzsche\" text,I predict the upcoming letter using RNN\n",
    "* I am using **theano** backend, as it is better for RNN's. \n",
    "* If **tensorflow** is used, it unrolls the whole RNN architecture and computes, whereas theano doesnt. \n",
    "  This saves a lot of memory and processing consumption. "
   ]
  },
  {
   "cell_type": "markdown",
   "metadata": {},
   "source": [
    "# Preprocess the data"
   ]
  },
  {
   "cell_type": "code",
   "execution_count": 27,
   "metadata": {
    "collapsed": true
   },
   "outputs": [],
   "source": [
    "from keras.utils.data_utils import get_file"
   ]
  },
  {
   "cell_type": "code",
   "execution_count": 28,
   "metadata": {},
   "outputs": [
    {
     "name": "stdout",
     "output_type": "stream",
     "text": [
      "corpus length: 600901\n"
     ]
    }
   ],
   "source": [
    "path = get_file('nietzsche.txt', origin=\"https://s3.amazonaws.com/text-datasets/nietzsche.txt\")\n",
    "text = open(path).read()\n",
    "print('corpus length:', len(text))"
   ]
  },
  {
   "cell_type": "markdown",
   "metadata": {},
   "source": [
    "Let's unroll text and make it a list of sorted chars"
   ]
  },
  {
   "cell_type": "code",
   "execution_count": 29,
   "metadata": {},
   "outputs": [
    {
     "name": "stdout",
     "output_type": "stream",
     "text": [
      "total chars = 86\n"
     ]
    }
   ],
   "source": [
    "chars = sorted(list(set(text)))\n",
    "vocab_size = len(chars)+1\n",
    "print('total chars =',vocab_size)"
   ]
  },
  {
   "cell_type": "markdown",
   "metadata": {},
   "source": [
    "Insert '0' character for padding. "
   ]
  },
  {
   "cell_type": "code",
   "execution_count": 30,
   "metadata": {
    "collapsed": true
   },
   "outputs": [],
   "source": [
    "chars.insert(0, \"\\0\")"
   ]
  },
  {
   "cell_type": "markdown",
   "metadata": {},
   "source": [
    "    Map chars to indices and back indices to chars"
   ]
  },
  {
   "cell_type": "code",
   "execution_count": 31,
   "metadata": {
    "collapsed": true
   },
   "outputs": [],
   "source": [
    "chars_indices = dict( (c,i) for i,c in enumerate(chars) )\n",
    "indices_chars = dict( (i,c) for i,c in enumerate(chars) )"
   ]
  },
  {
   "cell_type": "markdown",
   "metadata": {},
   "source": [
    "convert all the chars in text to indexes. I will be using indices data from now on"
   ]
  },
  {
   "cell_type": "code",
   "execution_count": 32,
   "metadata": {
    "collapsed": true
   },
   "outputs": [],
   "source": [
    "idx = [chars_indices[c] for c in text]"
   ]
  },
  {
   "cell_type": "markdown",
   "metadata": {},
   "source": [
    "# 3 word model \n",
    "    As of now, I predict the 4th letter using previous 3 letters."
   ]
  },
  {
   "cell_type": "code",
   "execution_count": 33,
   "metadata": {
    "collapsed": true
   },
   "outputs": [],
   "source": [
    "cs = 3\n",
    "c1_dat = [idx[i] for i in range(0, len(idx)-1-cs, cs)]\n",
    "c2_dat = [idx[i+1] for i in range(0, len(idx)-1-cs, cs)]\n",
    "c3_dat = [idx[i+2] for i in range(0, len(idx)-1-cs, cs)]\n",
    "c4_dat = [idx[i+3] for i in range(0, len(idx)-1-cs, cs)]"
   ]
  },
  {
   "cell_type": "markdown",
   "metadata": {},
   "source": [
    "### our inputs"
   ]
  },
  {
   "cell_type": "code",
   "execution_count": 34,
   "metadata": {
    "collapsed": true
   },
   "outputs": [],
   "source": [
    "import numpy as np"
   ]
  },
  {
   "cell_type": "code",
   "execution_count": 35,
   "metadata": {
    "collapsed": true
   },
   "outputs": [],
   "source": [
    "x1 = np.stack(c1_dat[:-2])\n",
    "x2 = np.stack(c2_dat[:-2])\n",
    "x3 = np.stack(c3_dat[:-2])"
   ]
  },
  {
   "cell_type": "markdown",
   "metadata": {},
   "source": [
    "### Our output"
   ]
  },
  {
   "cell_type": "code",
   "execution_count": 36,
   "metadata": {
    "collapsed": true
   },
   "outputs": [],
   "source": [
    "y = np.stack(c4_dat[:-2])"
   ]
  },
  {
   "cell_type": "markdown",
   "metadata": {},
   "source": [
    "### Let's create input layer and embedding layer"
   ]
  },
  {
   "cell_type": "code",
   "execution_count": 37,
   "metadata": {
    "collapsed": true
   },
   "outputs": [],
   "source": [
    "n_factors = 50"
   ]
  },
  {
   "cell_type": "code",
   "execution_count": 38,
   "metadata": {
    "collapsed": true
   },
   "outputs": [],
   "source": [
    "from keras.layers import Input, Embedding, Flatten"
   ]
  },
  {
   "cell_type": "code",
   "execution_count": 39,
   "metadata": {
    "collapsed": true
   },
   "outputs": [],
   "source": [
    "c1_in = Input(shape=(1,), dtype='int64',name='c1')\n",
    "c1 = Embedding(vocab_size, n_factors, input_length=1)(c1_in)\n",
    "c1 = Flatten()(c1)\n",
    "\n",
    "c2_in = Input(shape=(1,), dtype='int64', name='c2')\n",
    "c2 = Embedding(vocab_size, n_factors, input_length=1)(c2_in)\n",
    "c2 = Flatten()(c2)\n",
    "\n",
    "c3_in = Input(shape=(1,), dtype='int64', name='c3')\n",
    "c3 = Embedding(vocab_size, n_factors, input_length=1)(c3_in)\n",
    "c3 = Flatten()(c3)"
   ]
  },
  {
   "cell_type": "markdown",
   "metadata": {},
   "source": [
    "# creating RNN without using keras."
   ]
  },
  {
   "cell_type": "code",
   "execution_count": 40,
   "metadata": {
    "collapsed": true
   },
   "outputs": [],
   "source": [
    "from keras.layers import Dense, merge"
   ]
  },
  {
   "cell_type": "code",
   "execution_count": 41,
   "metadata": {},
   "outputs": [
    {
     "name": "stderr",
     "output_type": "stream",
     "text": [
      "C:\\Users\\Chaitra\\Anaconda3\\lib\\site-packages\\ipykernel_launcher.py:11: UserWarning: The `merge` function is deprecated and will be removed after 08/2017. Use instead layers from `keras.layers.merge`, e.g. `add`, `concatenate`, etc.\n",
      "  # This is added back by InteractiveShellApp.init_path()\n",
      "C:\\Users\\Chaitra\\Anaconda3\\lib\\site-packages\\keras\\legacy\\layers.py:460: UserWarning: The `Merge` layer is deprecated and will be removed after 08/2017. Use instead layers from `keras.layers.merge`, e.g. `add`, `concatenate`, etc.\n",
      "  name=name)\n",
      "C:\\Users\\Chaitra\\Anaconda3\\lib\\site-packages\\ipykernel_launcher.py:20: UserWarning: The `merge` function is deprecated and will be removed after 08/2017. Use instead layers from `keras.layers.merge`, e.g. `add`, `concatenate`, etc.\n"
     ]
    }
   ],
   "source": [
    "#Input layer for char1\n",
    "c1_in_layer = Dense(256, activation='relu')(c1)\n",
    "\n",
    "#Input layer for char2\n",
    "c2_in_layer = Dense(256, activation='relu')(c2)\n",
    "\n",
    "#Hidden layer between c1 input to the next activation function\n",
    "hidden_2 = Dense(256, activation='tanh')(c1_in_layer)\n",
    "\n",
    "#dense of c1 and input of c2\n",
    "c2_c1 = merge([c2_in_layer,hidden_2])\n",
    "\n",
    "#Input layer for char3\n",
    "c3_in_layer = Dense(256, activation='relu')(c3)\n",
    "\n",
    "#Hidden layer between c2_out to the next activation function\n",
    "hidden_3 = Dense(256, activation='tanh')(c2_c1)\n",
    "\n",
    "#dense of c1&c2 and input of c3\n",
    "c3_c2 = merge([c3_in_layer,hidden_3])\n",
    "\n",
    "#Final output layer\n",
    "c4_out = Dense(vocab_size,activation='softmax')(c3_c2)"
   ]
  },
  {
   "cell_type": "markdown",
   "metadata": {},
   "source": [
    "### Using functional API, instead of sequential model"
   ]
  },
  {
   "cell_type": "code",
   "execution_count": 42,
   "metadata": {
    "collapsed": true
   },
   "outputs": [],
   "source": [
    "from keras.models import Model\n",
    "from keras import losses "
   ]
  },
  {
   "cell_type": "code",
   "execution_count": 43,
   "metadata": {
    "collapsed": true
   },
   "outputs": [],
   "source": [
    "rnn =  Model([c1_in,c2_in,c3_in], c4_out)"
   ]
  },
  {
   "cell_type": "code",
   "execution_count": 44,
   "metadata": {},
   "outputs": [
    {
     "name": "stdout",
     "output_type": "stream",
     "text": [
      "____________________________________________________________________________________________________\n",
      "Layer (type)                     Output Shape          Param #     Connected to                     \n",
      "====================================================================================================\n",
      "c1 (InputLayer)                  (None, 1)             0                                            \n",
      "____________________________________________________________________________________________________\n",
      "c2 (InputLayer)                  (None, 1)             0                                            \n",
      "____________________________________________________________________________________________________\n",
      "embedding_2 (Embedding)          (None, 1, 50)         4300        c1[0][0]                         \n",
      "____________________________________________________________________________________________________\n",
      "embedding_3 (Embedding)          (None, 1, 50)         4300        c2[0][0]                         \n",
      "____________________________________________________________________________________________________\n",
      "flatten_1 (Flatten)              (None, 50)            0           embedding_2[0][0]                \n",
      "____________________________________________________________________________________________________\n",
      "c3 (InputLayer)                  (None, 1)             0                                            \n",
      "____________________________________________________________________________________________________\n",
      "flatten_2 (Flatten)              (None, 50)            0           embedding_3[0][0]                \n",
      "____________________________________________________________________________________________________\n",
      "dense_2 (Dense)                  (None, 256)           13056       flatten_1[0][0]                  \n",
      "____________________________________________________________________________________________________\n",
      "embedding_4 (Embedding)          (None, 1, 50)         4300        c3[0][0]                         \n",
      "____________________________________________________________________________________________________\n",
      "dense_3 (Dense)                  (None, 256)           13056       flatten_2[0][0]                  \n",
      "____________________________________________________________________________________________________\n",
      "dense_4 (Dense)                  (None, 256)           65792       dense_2[0][0]                    \n",
      "____________________________________________________________________________________________________\n",
      "flatten_3 (Flatten)              (None, 50)            0           embedding_4[0][0]                \n",
      "____________________________________________________________________________________________________\n",
      "merge_1 (Merge)                  (None, 256)           0           dense_3[0][0]                    \n",
      "                                                                   dense_4[0][0]                    \n",
      "____________________________________________________________________________________________________\n",
      "dense_5 (Dense)                  (None, 256)           13056       flatten_3[0][0]                  \n",
      "____________________________________________________________________________________________________\n",
      "dense_6 (Dense)                  (None, 256)           65792       merge_1[0][0]                    \n",
      "____________________________________________________________________________________________________\n",
      "merge_2 (Merge)                  (None, 256)           0           dense_5[0][0]                    \n",
      "                                                                   dense_6[0][0]                    \n",
      "____________________________________________________________________________________________________\n",
      "dense_7 (Dense)                  (None, 86)            22102       merge_2[0][0]                    \n",
      "====================================================================================================\n",
      "Total params: 205,754\n",
      "Trainable params: 205,754\n",
      "Non-trainable params: 0\n",
      "____________________________________________________________________________________________________\n"
     ]
    }
   ],
   "source": [
    "rnn.summary()"
   ]
  },
  {
   "cell_type": "code",
   "execution_count": 53,
   "metadata": {
    "collapsed": true
   },
   "outputs": [],
   "source": [
    "rnn.compile(optimizer='adam', loss='sparse_categorical_crossentropy')"
   ]
  },
  {
   "cell_type": "code",
   "execution_count": 33,
   "metadata": {},
   "outputs": [
    {
     "name": "stdout",
     "output_type": "stream",
     "text": [
      "Epoch 1/8\n",
      "200297/200297 [==============================] - 46s - loss: 3.5877    \n",
      "Epoch 2/8\n",
      "200297/200297 [==============================] - 46s - loss: 3.1926    \n",
      "Epoch 3/8\n",
      "200297/200297 [==============================] - 46s - loss: 3.1220    \n",
      "Epoch 4/8\n",
      "200297/200297 [==============================] - 46s - loss: 3.0931    \n",
      "Epoch 5/8\n",
      "200297/200297 [==============================] - 46s - loss: 3.0733    \n",
      "Epoch 6/8\n",
      "200297/200297 [==============================] - 46s - loss: 3.0568    \n",
      "Epoch 7/8\n",
      "200297/200297 [==============================] - 46s - loss: 3.0412    \n",
      "Epoch 8/8\n",
      "200297/200297 [==============================] - 46s - loss: 3.0253    \n"
     ]
    },
    {
     "data": {
      "text/plain": [
       "<keras.callbacks.History at 0x27880d50be0>"
      ]
     },
     "execution_count": 33,
     "metadata": {},
     "output_type": "execute_result"
    }
   ],
   "source": [
    "rnn.optimizer.lr = 0.001\n",
    "rnn.fit([x1,x2,x3], y, \n",
    "       epochs=8,\n",
    "       batch_size=32)"
   ]
  },
  {
   "cell_type": "code",
   "execution_count": 34,
   "metadata": {},
   "outputs": [
    {
     "name": "stdout",
     "output_type": "stream",
     "text": [
      "Epoch 1/8\n",
      "200297/200297 [==============================] - 46s - loss: 3.0088    \n",
      "Epoch 2/8\n",
      "200297/200297 [==============================] - 46s - loss: 2.9913    \n",
      "Epoch 3/8\n",
      "200297/200297 [==============================] - 47s - loss: 2.9730    \n",
      "Epoch 4/8\n",
      "200297/200297 [==============================] - 49s - loss: 2.9540    \n",
      "Epoch 5/8\n",
      "200297/200297 [==============================] - 50s - loss: 2.9346    \n",
      "Epoch 6/8\n",
      "200297/200297 [==============================] - 46s - loss: 2.9152    \n",
      "Epoch 7/8\n",
      "200297/200297 [==============================] - 48s - loss: 2.8959    \n",
      "Epoch 8/8\n",
      "200297/200297 [==============================] - 48s - loss: 2.8769    \n"
     ]
    },
    {
     "data": {
      "text/plain": [
       "<keras.callbacks.History at 0x27880ce05f8>"
      ]
     },
     "execution_count": 34,
     "metadata": {},
     "output_type": "execute_result"
    }
   ],
   "source": [
    "rnn.optimizer.lr = 0.01\n",
    "rnn.fit([x1,x2,x3], y, \n",
    "       epochs=8,\n",
    "       batch_size=32)"
   ]
  },
  {
   "cell_type": "markdown",
   "metadata": {},
   "source": [
    "# Test model"
   ]
  },
  {
   "cell_type": "code",
   "execution_count": 47,
   "metadata": {
    "collapsed": true
   },
   "outputs": [],
   "source": [
    "def next_inp(inp):\n",
    "    idxs = [chars_indices[c] for c in inp]\n",
    "    arrs = [np.array(i)[np.newaxis] for i in idxs]\n",
    "    p = rnn.predict(arrs)\n",
    "    i = np.argmax(p)\n",
    "    pd = chars[i]\n",
    "    return pd    "
   ]
  },
  {
   "cell_type": "code",
   "execution_count": 53,
   "metadata": {},
   "outputs": [
    {
     "data": {
      "text/plain": [
       "' '"
      ]
     },
     "execution_count": 53,
     "metadata": {},
     "output_type": "execute_result"
    }
   ],
   "source": [
    "next_inp('phi')"
   ]
  },
  {
   "cell_type": "markdown",
   "metadata": {},
   "source": [
    "Some where something went wrong. I will rectify the error soon."
   ]
  }
 ],
 "metadata": {
  "kernelspec": {
   "display_name": "Python 3",
   "language": "python",
   "name": "python3"
  },
  "language_info": {
   "codemirror_mode": {
    "name": "ipython",
    "version": 3
   },
   "file_extension": ".py",
   "mimetype": "text/x-python",
   "name": "python",
   "nbconvert_exporter": "python",
   "pygments_lexer": "ipython3",
   "version": "3.5.3"
  }
 },
 "nbformat": 4,
 "nbformat_minor": 2
}
